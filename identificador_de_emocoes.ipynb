{
  "cells": [
    {
      "cell_type": "markdown",
      "metadata": {
        "id": "view-in-github",
        "colab_type": "text"
      },
      "source": [
        "<a href=\"https://colab.research.google.com/github/ezequielhenrique/identificador-de-emocoes/blob/master/identificador_de_emocoes.ipynb\" target=\"_parent\"><img src=\"https://colab.research.google.com/assets/colab-badge.svg\" alt=\"Open In Colab\"/></a>"
      ]
    },
    {
      "cell_type": "markdown",
      "source": [
        "# Identificando emoções em comentários com o Gemini AI"
      ],
      "metadata": {
        "id": "ZLCmWj2yOTzF"
      }
    },
    {
      "cell_type": "markdown",
      "source": [
        "### 1° Passo: Instalar o SDK do Google"
      ],
      "metadata": {
        "id": "ylSzpvgGOt7_"
      }
    },
    {
      "cell_type": "code",
      "execution_count": 22,
      "metadata": {
        "id": "nFQLKQ6hfXch"
      },
      "outputs": [],
      "source": [
        "!pip install -q -U google-generativeai"
      ]
    },
    {
      "cell_type": "markdown",
      "source": [
        "### 2° Passo: Importar biblioteca do Gemini AI e configurar uma chave de API\n",
        "\n",
        "Acesse [aqui](https://aistudio.google.com/app/apikey) para obter uma chave"
      ],
      "metadata": {
        "id": "HO01oxMePW67"
      }
    },
    {
      "cell_type": "code",
      "execution_count": 23,
      "metadata": {
        "id": "IthzwfnAfcsi"
      },
      "outputs": [],
      "source": [
        "import google.generativeai as genai\n",
        "\n",
        "GOOGLE_API_KEY= 'INSIRA SUA API KEY AQUI'\n",
        "genai.configure(api_key=GOOGLE_API_KEY)"
      ]
    },
    {
      "cell_type": "markdown",
      "source": [
        "### 3° Passo: Realizar as configurações dos parâmetros de treinamento"
      ],
      "metadata": {
        "id": "Fsj4itf9QTQU"
      }
    },
    {
      "cell_type": "code",
      "execution_count": 24,
      "metadata": {
        "id": "O1ochaeyDn_o"
      },
      "outputs": [],
      "source": [
        "generation_config = {\n",
        "  \"candidate_count\": 1,\n",
        "  \"temperature\": 0.5,\n",
        "}\n",
        "\n",
        "safety_settings={\n",
        "    'HATE': 'BLOCK_NONE',\n",
        "    'HARASSMENT': 'BLOCK_NONE',\n",
        "    'SEXUAL' : 'BLOCK_NONE',\n",
        "    'DANGEROUS' : 'BLOCK_NONE'\n",
        "}\n",
        "\n",
        "system_instruction = \"Você é um identificador de emoções, responda as entradas do unuário somente com uma única palavra que representa melhor o sentimento do texto\""
      ]
    },
    {
      "cell_type": "markdown",
      "source": [
        "### 4° Passo: Passagem dos parâmetros para o modelo"
      ],
      "metadata": {
        "id": "QtcLpPqZQ0U5"
      }
    },
    {
      "cell_type": "code",
      "execution_count": 25,
      "metadata": {
        "id": "NIiSs1R5mVJE"
      },
      "outputs": [],
      "source": [
        "model = genai.GenerativeModel(model_name='gemini-1.5-pro-latest',\n",
        "                                  generation_config=generation_config,\n",
        "                                  system_instruction=system_instruction,\n",
        "                                  safety_settings=safety_settings,)"
      ]
    },
    {
      "cell_type": "markdown",
      "source": [
        "### 5° Passo: Passando um comentário para a rede e recebendo qual é a emoção presente no texto"
      ],
      "metadata": {
        "id": "sj-BPQQFRyIA"
      }
    },
    {
      "cell_type": "code",
      "execution_count": 26,
      "metadata": {
        "colab": {
          "base_uri": "https://localhost:8080/",
          "height": 35
        },
        "id": "vrRjhT2rlrU_",
        "outputId": "db01c9f1-a932-443a-934c-ba3cc8dcb82d"
      },
      "outputs": [
        {
          "output_type": "execute_result",
          "data": {
            "text/plain": [
              "'Entusiasmado \\n'"
            ],
            "application/vnd.google.colaboratory.intrinsic+json": {
              "type": "string"
            }
          },
          "metadata": {},
          "execution_count": 26
        }
      ],
      "source": [
        "response = model.generate_content(\"A Gemini AI é uma ferramenta poderosa com grande potencial para revolucionar a forma como interagimos com computadores e a informação.\")\n",
        "response.text"
      ]
    },
    {
      "cell_type": "markdown",
      "source": [
        "### Bônus: Criação de um chatbot para identificar as emoções do texto digitado pelo usuário"
      ],
      "metadata": {
        "id": "Lzfve95nSE1x"
      }
    },
    {
      "cell_type": "code",
      "execution_count": 28,
      "metadata": {
        "colab": {
          "base_uri": "https://localhost:8080/",
          "height": 486
        },
        "id": "KpaQ6hm5f2_J",
        "outputId": "69f120c5-b99d-4a7c-d5e6-16f18d266162"
      },
      "outputs": [
        {
          "name": "stdout",
          "output_type": "stream",
          "text": [
            "Olá! Eu sou o FeelingBot, irei sempre identificar as emoções que você quer transmitir nos textos que você digitar.\n",
            "\n",
            "Faça algum comentário: Que bot legal\n",
            "Emoção identificada: Positivo \n",
            " \n",
            "\n",
            "\n",
            "Caso não deseje mais utilizar o bot é só digitar \"fim\"\n",
            "Faça algum comentário: Não gostei, muito básico\n",
            "Emoção identificada: Negativo \n",
            " \n",
            "\n",
            "\n",
            "Caso não deseje mais utilizar o bot é só digitar \"fim\"\n",
            "Faça algum comentário: Nem bom nem ruim, faz somente o essencial\n",
            "Emoção identificada: Neutro \n",
            " \n",
            "\n",
            "\n",
            "Caso não deseje mais utilizar o bot é só digitar \"fim\"\n",
            "Faça algum comentário: Esse chatbot é muito legal, já tenho várias ideias de uso para ele em minha mente!\n",
            "Emoção identificada: Entusiasmado \n",
            " \n",
            "\n",
            "\n",
            "Caso não deseje mais utilizar o bot é só digitar \"fim\"\n",
            "Faça algum comentário: fim\n"
          ]
        }
      ],
      "source": [
        "chat = model.start_chat(history=[])\n",
        "\n",
        "print('Olá! Eu sou o FeelingBot, irei sempre identificar as emoções que você quer transmitir nos textos que você digitar.')\n",
        "print()\n",
        "\n",
        "prompt = input('Faça algum comentário: ')\n",
        "\n",
        "while prompt != \"fim\":\n",
        "  response = chat.send_message(prompt)\n",
        "  print(\"Emoção identificada:\", response.text, '\\n\\n')\n",
        "  print('Caso não deseje mais utilizar o bot é só digitar \"fim\"')\n",
        "  prompt = input('Faça algum comentário: ')\n",
        ""
      ]
    }
  ],
  "metadata": {
    "colab": {
      "provenance": [],
      "include_colab_link": true
    },
    "kernelspec": {
      "display_name": "Python 3",
      "name": "python3"
    },
    "language_info": {
      "name": "python"
    }
  },
  "nbformat": 4,
  "nbformat_minor": 0
}